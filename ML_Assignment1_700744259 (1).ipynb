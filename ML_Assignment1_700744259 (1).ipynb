{
  "nbformat": 4,
  "nbformat_minor": 0,
  "metadata": {
    "colab": {
      "provenance": []
    },
    "kernelspec": {
      "name": "python3",
      "display_name": "Python 3"
    },
    "language_info": {
      "name": "python"
    }
  },
  "cells": [
    {
      "cell_type": "markdown",
      "source": [
        "Question 1:\n",
        "The following is a list of 10 students ages: ages = [19, 22, 19, 24, 20, 25, 26, 24, 25, 24] • Sort the list and find the min and max age • Add the min age and the max age again to the list • Find the median age (one middle item or two middle items divided by two) • Find the average age (sum of all items divided by their number) • Find the range of the ages (max minus min)"
      ],
      "metadata": {
        "id": "i8UA00-LdySS"
      }
    },
    {
      "cell_type": "code",
      "source": [
        "import statistics\n",
        "ages = [19, 22, 19, 24, 20, 25, 26, 24, 25, 24]\n",
        "ages.sort()\n",
        "#printing the sorted list of ages\n",
        "print(\"sorted ages =\",ages)\n",
        "maximum_age=max(ages)\n",
        "#printing the maximum age\n",
        "print(\"maximum age=\",maximum_age)\n",
        "minimum_age=min(ages)\n",
        "#printing the minimum age\n",
        "print(\"minimum age=\",minimum_age)\n",
        "#adding minimum age\n",
        "ages.append(maximum_age)\n",
        "print(\"list after adding maximum age\",ages)\n",
        "#adding maximum age\n",
        "ages.append(minimum_age)\n",
        "print(\"list after adding minimum age\",ages)\n",
        "#getting the median age\n",
        "median=statistics.median(ages)\n",
        "print(\"median=\",median)\n",
        "#getting the average age\n",
        "average=statistics.mean(ages)\n",
        "print(\"average=\",average)\n",
        "#finding the range of ages.\n",
        "range=maximum_age-minimum_age\n",
        "print(\"range=\",range)"
      ],
      "metadata": {
        "colab": {
          "base_uri": "https://localhost:8080/"
        },
        "id": "r5Rkg-myd4pB",
        "outputId": "84f17d64-5a17-4831-d59b-59a188faa3ee"
      },
      "execution_count": 2,
      "outputs": [
        {
          "output_type": "stream",
          "name": "stdout",
          "text": [
            "sorted ages = [19, 19, 20, 22, 24, 24, 24, 25, 25, 26]\n",
            "maximum age= 26\n",
            "minimum age= 19\n",
            "list after adding maximum age [19, 19, 20, 22, 24, 24, 24, 25, 25, 26, 26]\n",
            "list after adding minimum age [19, 19, 20, 22, 24, 24, 24, 25, 25, 26, 26, 19]\n",
            "median= 24.0\n",
            "average= 22.75\n",
            "range= 7\n"
          ]
        }
      ]
    },
    {
      "cell_type": "markdown",
      "source": [
        "Question 2:\n",
        "Create an empty dictionary called dog • Add name, color, breed, legs, age to the dog dictionary • Create a student dictionary and add first_name, last_name, gender, age, marital status, skills, country, city and address as keys for the dictionary • Get the length of the student dictionary • Get the value of skills and check the data type, it should be a list • Modify the skills values by adding one or two skills • Get the dictionary keys as a list • Get the dictionary values as a list"
      ],
      "metadata": {
        "id": "lC-p8ipjeACs"
      }
    },
    {
      "cell_type": "code",
      "source": [
        "dog = {} # creating an empty dictionary\n",
        "print(dog)\n",
        "dog={'name':'charlie','color':'black','breed':'german','legs':2,'age':6} #addding name,color,breed,legs age to the dictionary dog.\n",
        "print(dog)\n",
        "#creating the student dictionary\n",
        "student = {'first_name':'Swathi','last_name':'Jonnalagadda', 'gender':'female', 'age':21,'marital status':'single',\n",
        "'skills':['JavaScript', 'c','c++','r','Python'],'country':'USA', 'city':'kansas', 'address':'Overland Park'}\n",
        "print(student)\n",
        "#printing length of the student dictionary\n",
        "print(\"length of the student dictionary :\",len(student))\n",
        "#getting the values of skills\n",
        "print(student['skills'])\n",
        "#checking the data type\n",
        "print(type(student['skills']))\n",
        "#modifying the skills values by adding\n",
        "student['skills'].append('HTML')\n",
        "print(student)\n",
        "#getting the dictionary keys\n",
        "student_keys=student.keys()\n",
        "print(\"student_keys=\", student_keys)\n",
        "#getting the dictionary values\n",
        "student_values=student.values()\n",
        "print(\"student_values=\", student_values)"
      ],
      "metadata": {
        "colab": {
          "base_uri": "https://localhost:8080/"
        },
        "id": "U0cShEggeFyY",
        "outputId": "8611c5af-2375-4273-f659-60f45b2f1cb5"
      },
      "execution_count": 3,
      "outputs": [
        {
          "output_type": "stream",
          "name": "stdout",
          "text": [
            "{}\n",
            "{'name': 'charlie', 'color': 'black', 'breed': 'german', 'legs': 2, 'age': 6}\n",
            "{'first_name': 'Swathi', 'last_name': 'Jonnalagadda', 'gender': 'female', 'age': 21, 'marital status': 'single', 'skills': ['JavaScript', 'c', 'c++', 'r', 'Python'], 'country': 'USA', 'city': 'kansas', 'address': 'Overland Park'}\n",
            "length of the student dictionary : 9\n",
            "['JavaScript', 'c', 'c++', 'r', 'Python']\n",
            "<class 'list'>\n",
            "{'first_name': 'Swathi', 'last_name': 'Jonnalagadda', 'gender': 'female', 'age': 21, 'marital status': 'single', 'skills': ['JavaScript', 'c', 'c++', 'r', 'Python', 'HTML'], 'country': 'USA', 'city': 'kansas', 'address': 'Overland Park'}\n",
            "student_keys= dict_keys(['first_name', 'last_name', 'gender', 'age', 'marital status', 'skills', 'country', 'city', 'address'])\n",
            "student_values= dict_values(['Swathi', 'Jonnalagadda', 'female', 21, 'single', ['JavaScript', 'c', 'c++', 'r', 'Python', 'HTML'], 'USA', 'kansas', 'Overland Park'])\n"
          ]
        }
      ]
    },
    {
      "cell_type": "markdown",
      "source": [
        "QUESTION 3\n",
        "Create a tuple containing names of your sisters and your brothers (imaginary siblings are fine) • Join brothers and sisters tuples and assign it to siblings • How many siblings do you have? • Modify the siblings tuple and add the name of your father and mother and assign it to family_members"
      ],
      "metadata": {
        "id": "VT2VzNITePSK"
      }
    },
    {
      "cell_type": "code",
      "source": [
        "sisters=('Lakshmi','Mounika','Swathi') #creating the tuple of sisters\n",
        "print(\"sisters =\",sisters)\n",
        "brothers=('Sudheer','Ram','Mahesh') #creating tuple of brothers\n",
        "print(\"brothers=\",brothers)\n",
        "sibilings = brothers+sisters #joining brothers and sisters tuple and assigning it to siblings\n",
        "print(\"sibilings=\",sibilings)\n",
        "length=len(sibilings) #finding total number of siblings\n",
        "print(\"length=\",length)\n",
        "lst_sibilings = tuple(sibilings)\n",
        "print(\"lst_sibilings=\",lst_sibilings)\n",
        "#parents=('mother','father')\n",
        "Father_name = \"Saidulu\"\n",
        "Mother_name = \"Sivaparvathi\"\n",
        "family_members=lst_sibilings + (Father_name,Mother_name)\n",
        "print(\"family_members=\",family_members)"
      ],
      "metadata": {
        "colab": {
          "base_uri": "https://localhost:8080/"
        },
        "id": "noWzfli3eUqI",
        "outputId": "b4515109-3aae-4a32-e7db-c5acec4690c8"
      },
      "execution_count": 4,
      "outputs": [
        {
          "output_type": "stream",
          "name": "stdout",
          "text": [
            "sisters = ('Lakshmi', 'Mounika', 'Swathi')\n",
            "brothers= ('Sudheer', 'Ram', 'Mahesh')\n",
            "sibilings= ('Sudheer', 'Ram', 'Mahesh', 'Lakshmi', 'Mounika', 'Swathi')\n",
            "length= 6\n",
            "lst_sibilings= ('Sudheer', 'Ram', 'Mahesh', 'Lakshmi', 'Mounika', 'Swathi')\n",
            "family_members= ('Sudheer', 'Ram', 'Mahesh', 'Lakshmi', 'Mounika', 'Swathi', 'Saidulu', 'Sivaparvathi')\n"
          ]
        }
      ]
    },
    {
      "cell_type": "markdown",
      "source": [
        "# Question 4:\n",
        "it_companies = {'Facebook', 'Google', 'Microsoft', 'Apple', 'IBM', 'Oracle', 'Amazon'}\n",
        "A = {19, 22, 24, 20, 25, 26}\n",
        "B = {19, 22, 20, 25, 26, 24, 28, 27}\n",
        "age = [22, 19, 24, 25, 26, 24, 25, 24]\n",
        "• Find the length of the set it_companies\n",
        "• Add 'Twitter' to it_companies\n",
        "• Insert multiple IT companies at once to the set it_companies\n",
        "• Remove one of the companies from the set it_companies\n",
        "• What is the difference between remove and discard\n",
        "• Join A and B\n",
        "• Find A intersection B\n",
        "• Is A subset of B\n",
        "• Are A and B disjoint sets\n",
        "• Join A with B and B with A\n",
        "• What is the symmetric difference between A and B\n",
        "• Delete the sets completely\n",
        "• Convert the ages to a set and compare the length of the list and the set."
      ],
      "metadata": {
        "id": "KFdVFtXPeac-"
      }
    },
    {
      "cell_type": "code",
      "source": [
        "it_companies = {'Facebook', 'Google', 'Microsoft', 'Apple', 'IBM', 'Oracle', 'Amazon'}\n",
        "A = {19, 22, 24, 20, 25, 26}\n",
        "B = {19, 22, 20, 25, 26, 24, 28, 27}\n",
        "age = [22, 19, 24, 25, 26, 24, 25, 24]\n",
        "print(\"length of it_companies=\",len(it_companies)) #finding the length of the it companies\n",
        "it_companies.add('Twitter') #adding twitter to it companies\n",
        "print(it_companies)\n",
        "it_companies.update(['Amdocs','wipro','qualcomm']) #inserting multiple IT companies at once\n",
        "print(it_companies)\n",
        "it_companies.remove('Amdocs') #removing one of the it company from the set it_companies\n",
        "print(it_companies)\n",
        "#difference between discard() and remove method\n",
        "print(\"Difference between Remove() and discard(): \\ndiscard() method is different from the remove() method, because the remove() method will throw an error if the specified item is not present in list, where as the discard() method will not throw any error if item doesn't exist in list\")\n",
        "join=A.union(B) #joining A and B\n",
        "print(\"join\",join)\n",
        "intersection=A.intersection(B) #finding A intersection B\n",
        "print(\"intersection\",intersection)\n",
        "print(\"subset=\",A.issubset(B)) #checking is A subset of B\n",
        "print(\"disjoint_sets=\",A.isdisjoint(B)) # checking Are A and B are Disjoint sets\n",
        "join1=A.union(B) #joining A with B\n",
        "print(\"joina&b\",join1)\n",
        "join2=B.union(A)\n",
        "print(\"joinb&a\",join2) #joining B with A\n",
        "symmetric_difference=A.symmetric_difference(B)\n",
        "print(\"symmetric_difference\",symmetric_difference)\n",
        "#deleting the Sets A and B completely\n",
        "del(A) \n",
        "del(B)\n",
        "length_age=len(age) #finding the length of the list\n",
        "print(\"age of list is \",length_age)\n",
        "age_set=set(age)#converting the list to set\n",
        "print(\"age_set\",age_set)\n",
        "length_set=len(age_set)#finding the length of the set\n",
        "print(\"length_set\",length_set)\n",
        "#comparing the length of the set with the length of the list.\n",
        "if length_age==length_set :\n",
        "    {\n",
        "        print(\"true\")\n",
        "    }\n",
        "else:\n",
        "    print(\"false\")"
      ],
      "metadata": {
        "colab": {
          "base_uri": "https://localhost:8080/"
        },
        "id": "KlFFhfvOetQ6",
        "outputId": "7d88226f-8cae-4bdd-e261-d90f3da752dd"
      },
      "execution_count": 5,
      "outputs": [
        {
          "output_type": "stream",
          "name": "stdout",
          "text": [
            "length of it_companies= 7\n",
            "{'Facebook', 'Amazon', 'Twitter', 'Google', 'Microsoft', 'Oracle', 'IBM', 'Apple'}\n",
            "{'Amdocs', 'Facebook', 'Amazon', 'Twitter', 'wipro', 'Google', 'Microsoft', 'Oracle', 'IBM', 'Apple', 'qualcomm'}\n",
            "{'Facebook', 'Amazon', 'Twitter', 'wipro', 'Google', 'Microsoft', 'Oracle', 'IBM', 'Apple', 'qualcomm'}\n",
            "Difference between Remove() and discard(): \n",
            "discard() method is different from the remove() method, because the remove() method will throw an error if the specified item is not present in list, where as the discard() method will not throw any error if item doesn't exist in list\n",
            "join {19, 20, 22, 24, 25, 26, 27, 28}\n",
            "intersection {19, 20, 22, 24, 25, 26}\n",
            "subset= True\n",
            "disjoint_sets= False\n",
            "joina&b {19, 20, 22, 24, 25, 26, 27, 28}\n",
            "joinb&a {19, 20, 22, 24, 25, 26, 27, 28}\n",
            "symmetric_difference {27, 28}\n",
            "age of list is  8\n",
            "age_set {19, 22, 24, 25, 26}\n",
            "length_set 5\n",
            "false\n"
          ]
        }
      ]
    },
    {
      "cell_type": "markdown",
      "source": [
        "Question 5\n",
        "The radius of a circle is 30 meters. • Calculate the area of a circle and assign the value to a variable name of area_of_circle • Calculate the circumference of a circle and assign the value to a variable name of circum_of_circle • Take radius as user input and calculate the area"
      ],
      "metadata": {
        "id": "1_2cSWU6e1kD"
      }
    },
    {
      "cell_type": "code",
      "source": [
        "R=30\n",
        "_area_of_circle_ = 3.14*R*R #calculating the area of circle and assigned it to the variable name _area_of_circle_\n",
        "print(\"area of circle =\",_area_of_circle_)\n",
        "_circum_of_circle_ =2*3.14*R #calculating the circumference of the circle and assigned it to the variable name _circum_of_circle\n",
        "print(\"circumference of circle=\", _circum_of_circle_);\n",
        "radius = int(input(\"Enter the value of radius: \")) #prompts the user to enter the radius.\n",
        "print(\"radius of circle =\",radius)\n",
        "area=3.14*radius*radius #calculating the area\n",
        "print(\"area of circle=\",area)"
      ],
      "metadata": {
        "colab": {
          "base_uri": "https://localhost:8080/"
        },
        "id": "yHEraPJke73I",
        "outputId": "f96f423a-a82a-4f15-edc0-43d9db4faeb8"
      },
      "execution_count": 6,
      "outputs": [
        {
          "output_type": "stream",
          "name": "stdout",
          "text": [
            "area of circle = 2826.0\n",
            "circumference of circle= 188.4\n",
            "Enter the value of radius: 8\n",
            "radius of circle = 8\n",
            "area of circle= 200.96\n"
          ]
        }
      ]
    },
    {
      "cell_type": "markdown",
      "source": [
        "Question 6\n",
        "“I am a teacher and I love to inspire and teach people” • How many unique words have been used in the sentence? Use the split methods and set to get the unique words."
      ],
      "metadata": {
        "id": "lU2ReJprfEXY"
      }
    },
    {
      "cell_type": "code",
      "source": [
        "string_sentence =\"I am a teacher and I love to inspire and teach people\" # assining string to string_sentence\n",
        "word_list = string_sentence.split(' ') # using the split method splits string into a list\n",
        "word_count=0\n",
        "for i in word_list:\n",
        "    if word_list.count(i) > 1:\n",
        "        word_list.remove(i)\n",
        "print(word_list)\n",
        "print(len(word_list))\n"
      ],
      "metadata": {
        "colab": {
          "base_uri": "https://localhost:8080/"
        },
        "id": "hy7kpxsyfJTi",
        "outputId": "1ef6c2a3-be57-419f-8154-fd658e1a33b3"
      },
      "execution_count": 7,
      "outputs": [
        {
          "output_type": "stream",
          "name": "stdout",
          "text": [
            "['am', 'a', 'teacher', 'I', 'love', 'to', 'inspire', 'and', 'teach', 'people']\n",
            "10\n"
          ]
        }
      ]
    },
    {
      "cell_type": "markdown",
      "source": [
        "Question 7\n",
        "Use a tab escape sequence to get the following lines. Name Age Country City Asabeneh 250 Finland Helsinki"
      ],
      "metadata": {
        "id": "l3rlxJk0fQsb"
      }
    },
    {
      "cell_type": "code",
      "source": [
        "String = \"Name\\tAge\\tCountry City\\nAsabench 250\\tFinland Helsinki\" #\\t represents tab space and \\n represents the next line\n",
        "print(String)"
      ],
      "metadata": {
        "colab": {
          "base_uri": "https://localhost:8080/"
        },
        "id": "mCjWkBArfbf0",
        "outputId": "f10b4c08-3ac0-4d4a-9810-ac885217ffe5"
      },
      "execution_count": 8,
      "outputs": [
        {
          "output_type": "stream",
          "name": "stdout",
          "text": [
            "Name\tAge\tCountry City\n",
            "Asabench 250\tFinland Helsinki\n"
          ]
        }
      ]
    },
    {
      "cell_type": "markdown",
      "source": [
        "Question 8\n",
        "Use the string formatting method to display the following: radius = 10 area = 3.14 * radius ** 2 “The area of a circle with radius 10 is 314 meters square.”"
      ],
      "metadata": {
        "id": "ofqqhF7gfgGk"
      }
    },
    {
      "cell_type": "code",
      "source": [
        "radius = 10\n",
        "area = 3.14 * radius * radius\n",
        "print(\" \" + \"The area of a circle radius\" + \" \" + str(radius) + \" \" +\"is\" + \" \"+ str(3.14 * radius **2) +\" meters square.\")"
      ],
      "metadata": {
        "colab": {
          "base_uri": "https://localhost:8080/"
        },
        "id": "upP6QVS_frV1",
        "outputId": "904558ed-d92f-4a40-dd94-264bec3fe9ef"
      },
      "execution_count": 9,
      "outputs": [
        {
          "output_type": "stream",
          "name": "stdout",
          "text": [
            " The area of a circle radius 10 is 314.0 meters square.\n"
          ]
        }
      ]
    },
    {
      "cell_type": "markdown",
      "source": [
        "Question 9\n",
        "Write a program, which reads weights (lbs.) of N students into a list and convert these weights to kilograms in a separate list using Loop. N: No of students (Read input from user) Ex: L1: [150, 155, 145, 148] Output: [68.03, 70.3, 65.77, 67.13]"
      ],
      "metadata": {
        "id": "oN0h2pduf27N"
      }
    },
    {
      "cell_type": "code",
      "source": [
        "Student_List_Lbs=[]\n",
        "msg = int(input(\"Enter number of students: \"))#taking an input from the user\n",
        "Student_List_Kgs=[]\n",
        "\n",
        "for i in range(0,msg):\n",
        "    Student_List_Lbs.append(int(input()))\n",
        "    Student_List_Kgs.append(Student_List_Lbs[i]*0.453592)#converting weight form lb to kg\n",
        "print(Student_List_Lbs)    \n",
        "print(Student_List_Kgs)"
      ],
      "metadata": {
        "colab": {
          "base_uri": "https://localhost:8080/"
        },
        "id": "W8Bdr1Ref70u",
        "outputId": "e2d917d4-56e1-48e9-e701-05ffecc6ccb2"
      },
      "execution_count": 1,
      "outputs": [
        {
          "output_type": "stream",
          "name": "stdout",
          "text": [
            "Enter number of students: 4\n",
            "150\n",
            "155\n",
            "145\n",
            "148\n",
            "[150, 155, 145, 148]\n",
            "[68.0388, 70.30676, 65.77083999999999, 67.131616]\n"
          ]
        }
      ]
    },
    {
      "cell_type": "markdown",
      "source": [
        "Question 10\n"
      ],
      "metadata": {
        "id": "2yZKY0pDgNQk"
      }
    },
    {
      "cell_type": "code",
      "source": [
        "from sklearn.neighbors import KNeighborsClassifier\n",
        "from sklearn.model_selection import train_test_split\n",
        "from sklearn import metrics\n",
        "# creating a dataset and diving it into two part \"A\" represents training & \"B\" represents testing \n",
        "Datasetvalues = [[1, 0], [2, 1], [3, 1], [6, 1], [6, 1], [7, 0], [10, 0], [11, 0]]\n",
        "A = [[1], [2] ,[3], [6], [6], [7], [10], [11]]\n",
        "B = [0, 1, 1, 1, 1, 0, 0, 0]\n",
        "A_training, A_testing, B_training, B_testing = train_test_split(A, B, test_size = 0.5, random_state=42)\n",
        "# defining 3 as specified value\n",
        "KNN_value = KNeighborsClassifier(n_neighbors=3)\n",
        "KNN_value.fit(A_training, B_training)\n",
        "predicted_data = KNN_value.predict(A_testing)\n",
        "confusion_matrix = metrics.confusion_matrix(B_testing, predicted_data)\n",
        "# obtaing possible combinations for confusion matrix\n",
        "TruePositive = confusion_matrix[0][0]\n",
        "TrueNegative = confusion_matrix[1][1]\n",
        "FalsePositive = confusion_matrix[0][1]\n",
        "FalseNegative = confusion_matrix[1][0]\n",
        "# Calculating testing values,predicted values, confusion matrix value, accuracy,sensitivity,specificity values\n",
        "print(f'Testing Values: {A_testing}')\n",
        "print(f'Predicted data Values: {predicted_data}')\n",
        "print(f'Confusion Matrix value: \\n{confusion_matrix}')\n",
        "print(f'Accuracy values: \\n {metrics.accuracy_score(B_testing, predicted_data)}')\n",
        "print(f'Sensitivy values: \\n {TruePositive/(TruePositive + FalsePositive)}')\n",
        "print(f'specificity values: \\n {TrueNegative/(TrueNegative + FalseNegative)}')"
      ],
      "metadata": {
        "colab": {
          "base_uri": "https://localhost:8080/"
        },
        "id": "bQSLlImLgRmn",
        "outputId": "5f15024d-d5ec-4617-e6e1-307cfa1d33f1"
      },
      "execution_count": 2,
      "outputs": [
        {
          "output_type": "stream",
          "name": "stdout",
          "text": [
            "Testing Values: [[2], [7], [1], [11]]\n",
            "Predicted data Values: [1 1 1 1]\n",
            "Confusion Matrix value: \n",
            "[[0 3]\n",
            " [0 1]]\n",
            "Accuracy values: \n",
            " 0.25\n",
            "Sensitivy values: \n",
            " 0.0\n",
            "specificity values: \n",
            " 1.0\n"
          ]
        }
      ]
    }
  ]
}