{
  "nbformat": 4,
  "nbformat_minor": 0,
  "metadata": {
    "colab": {
      "provenance": []
    },
    "kernelspec": {
      "name": "python3",
      "display_name": "Python 3"
    },
    "language_info": {
      "name": "python"
    }
  },
  "cells": [
    {
      "cell_type": "markdown",
      "source": [
        "Question 1:Use a python code to display the following star pattern using the for loop"
      ],
      "metadata": {
        "id": "s-q56DqctKt9"
      }
    },
    {
      "cell_type": "code",
      "source": [
        "\n",
        "r1 = int(input(\"Enter max number of stars in the line\"))\n",
        "for i in range (0, r1):#outer loop for rows\n",
        "    for j in range(0, i + 1): #inner loop for columns\n",
        "        print(\"* \", end='')\n",
        "    print(\"\\r\")\n",
        "for i in range (r1, 0, -1):\n",
        "    for j in range(0, i -1):\n",
        "        print(\"* \", end='')\n",
        "    print(\"\\r\")"
      ],
      "metadata": {
        "colab": {
          "base_uri": "https://localhost:8080/"
        },
        "id": "WFHbNCUttQ_T",
        "outputId": "1d3bfd8d-5296-41c5-c620-cbeb21642b3a"
      },
      "execution_count": 21,
      "outputs": [
        {
          "output_type": "stream",
          "name": "stdout",
          "text": [
            "Enter max number of stars in the line5\n",
            "* \n",
            "* * \n",
            "* * * \n",
            "* * * * \n",
            "* * * * * \n",
            "* * * * \n",
            "* * * \n",
            "* * \n",
            "* \n",
            "\n"
          ]
        }
      ]
    },
    {
      "cell_type": "markdown",
      "source": [
        "Question2:Use looping to output the elements from a provided list present at odd indexes.\n",
        "my_list = [10, 20, 30, 40, 50, 60, 70, 80, 90, 100]"
      ],
      "metadata": {
        "id": "CYUHsTvYuUku"
      }
    },
    {
      "cell_type": "code",
      "source": [
        "list1 = [10, 20, 30, 40, 50, 60, 70, 80, 90, 100] #declared the list\n",
        "for i in list1[1::2]: # declared the step size as 2\n",
        "    print(i, end=\" \")#elements in the odd position are displayed"
      ],
      "metadata": {
        "colab": {
          "base_uri": "https://localhost:8080/"
        },
        "id": "XRWFk6f4ueNO",
        "outputId": "d5e5f4cf-0ef4-4603-891a-899af082bf13"
      },
      "execution_count": 22,
      "outputs": [
        {
          "output_type": "stream",
          "name": "stdout",
          "text": [
            "20 40 60 80 100 "
          ]
        }
      ]
    },
    {
      "cell_type": "markdown",
      "source": [
        "Question3:Write a code that appends the type of elements from a given list.\n",
        "Input\n",
        " x = [23, ‘Python’, 23.98]\n",
        " Expected output\n",
        " [23, 'Python', 23.98]\n",
        " [<class 'int'>, <class 'str'>, <class 'float'>]"
      ],
      "metadata": {
        "id": "I8GMMWP_u06w"
      }
    },
    {
      "cell_type": "code",
      "source": [
        "x = [23, 'Python',23.98]#declared the list\n",
        "l = []# declared an empty list\n",
        "for i in range(len(x)):\n",
        "    l.append(type(x[i]))#appends the type of elements in x to the list l\n",
        "print(x)\n",
        "print(l)"
      ],
      "metadata": {
        "colab": {
          "base_uri": "https://localhost:8080/"
        },
        "id": "NlwMKEnlvaH1",
        "outputId": "10868351-7560-497d-e44f-8fa1773cba70"
      },
      "execution_count": 8,
      "outputs": [
        {
          "output_type": "stream",
          "name": "stdout",
          "text": [
            "[23, 'Python', 23.98]\n",
            "[<class 'int'>, <class 'str'>, <class 'float'>]\n"
          ]
        }
      ]
    },
    {
      "cell_type": "markdown",
      "source": [
        "Question4:Write a function that takes a list and returns a new list with unique items of the first list.\n",
        "Sample List: [1,2,3,3,3,3,4,5]\n",
        "Unique List: [1, 2, 3, 4, 5]"
      ],
      "metadata": {
        "id": "m8ectPcev7jr"
      }
    },
    {
      "cell_type": "code",
      "source": [
        "def uniquelist(l):#created the unique list function\n",
        "  e = [] #created an empty list\n",
        "  for i in l:#checks the elements in l\n",
        "    if i not in e:#if element in l is not in e\n",
        "      e.append(i)#appends the element into the list\n",
        "  return e\n",
        "\n",
        "print(uniquelist([1,2,3,3,3,3,4,5])) "
      ],
      "metadata": {
        "colab": {
          "base_uri": "https://localhost:8080/"
        },
        "id": "xy5KJqI7wJ8Y",
        "outputId": "45b284ea-3f0a-4597-c7b0-ed62b8025275"
      },
      "execution_count": 14,
      "outputs": [
        {
          "output_type": "stream",
          "name": "stdout",
          "text": [
            "[1, 2, 3, 4, 5]\n"
          ]
        }
      ]
    },
    {
      "cell_type": "markdown",
      "source": [
        "Question5:Write a function that accepts a string and calculate the number of upper-case letters and lower-case\n",
        "letters.\n",
        "Input String: 'The quick Brow Fox'\n",
        "Expected Output:\n",
        "No. of Upper-case characters: 3\n",
        "No. of Lower-case Characters: 12"
      ],
      "metadata": {
        "id": "5REUokv4xDHq"
      }
    },
    {
      "cell_type": "code",
      "source": [
        "def upperlower(s1): #creating the function\n",
        "    d={\"UPPERCASE\":0, \"lowercase\":0}\n",
        "    for ch in s1: # for every character in string\n",
        "        if ch.isupper(): #checks upper\n",
        "           d[\"UPPERCASE\"]+=1\n",
        "        elif ch.islower():#checks lower\n",
        "           d[\"lowercase\"]+=1\n",
        "        else:\n",
        "           pass\n",
        "    print (\"Original String : \", s1)\n",
        "    print (\"No. of Upper-case characters : \", d[\"UPPERCASE\"])\n",
        "    print (\"No. of Lower-case Characters : \", d[\"lowercase\"])\n",
        "\n",
        "upperlower('The quick Brow Fox')"
      ],
      "metadata": {
        "colab": {
          "base_uri": "https://localhost:8080/"
        },
        "id": "itCMzX11xyea",
        "outputId": "ce4704ce-080e-4321-ff58-f2c0ecba60b9"
      },
      "execution_count": 19,
      "outputs": [
        {
          "output_type": "stream",
          "name": "stdout",
          "text": [
            "Original String :  The quick Brow Fox\n",
            "No. of Upper-case characters :  3\n",
            "No. of Lower-case Characters :  12\n"
          ]
        }
      ]
    }
  ]
}